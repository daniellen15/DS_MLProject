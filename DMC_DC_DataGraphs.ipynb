{
 "cells": [
  {
   "cell_type": "markdown",
   "id": "2ae26532",
   "metadata": {},
   "source": [
    "# Forest fire data from the Montesinho Natural Park in Portugal"
   ]
  },
  {
   "cell_type": "markdown",
   "id": "14746603",
   "metadata": {},
   "source": [
    "**Comparing average Duff Moisture Code (DMC) and Drought Code (DC) per month between January 2000 and December 2003**\n",
    "\n",
    "**DMC and DC**: These two components of the Fire Weather Index. They represent \"the moisture content of shallow and deep organic layers, which affect fire intensity\" (Cortez & Morais, 2007).\n",
    "\n",
    "Link to article about data collected: `http://www3.dsi.uminho.pt/pcortez/fires.pdf`\n"
   ]
  },
  {
   "cell_type": "code",
   "execution_count": 1,
   "id": "32bb3f4d",
   "metadata": {},
   "outputs": [],
   "source": [
    "#import libraries\n",
    "import pandas as pd\n",
    "import numpy as np\n",
    "import matplotlib as mpl\n",
    "import matplotlib.pyplot as plt\n",
    "import statistics as stat\n",
    "%matplotlib inline\n",
    "plt.style.use('seaborn-whitegrid')"
   ]
  },
  {
   "cell_type": "code",
   "execution_count": 2,
   "id": "a1a5f0f9",
   "metadata": {},
   "outputs": [
    {
     "data": {
      "text/html": [
       "<div>\n",
       "<style scoped>\n",
       "    .dataframe tbody tr th:only-of-type {\n",
       "        vertical-align: middle;\n",
       "    }\n",
       "\n",
       "    .dataframe tbody tr th {\n",
       "        vertical-align: top;\n",
       "    }\n",
       "\n",
       "    .dataframe thead th {\n",
       "        text-align: right;\n",
       "    }\n",
       "</style>\n",
       "<table border=\"1\" class=\"dataframe\">\n",
       "  <thead>\n",
       "    <tr style=\"text-align: right;\">\n",
       "      <th></th>\n",
       "      <th>X</th>\n",
       "      <th>Y</th>\n",
       "      <th>month</th>\n",
       "      <th>day</th>\n",
       "      <th>FFMC</th>\n",
       "      <th>DMC</th>\n",
       "      <th>DC</th>\n",
       "      <th>ISI</th>\n",
       "      <th>temp</th>\n",
       "      <th>RH</th>\n",
       "      <th>wind</th>\n",
       "      <th>rain</th>\n",
       "      <th>area</th>\n",
       "    </tr>\n",
       "  </thead>\n",
       "  <tbody>\n",
       "    <tr>\n",
       "      <th>0</th>\n",
       "      <td>7</td>\n",
       "      <td>5</td>\n",
       "      <td>mar</td>\n",
       "      <td>fri</td>\n",
       "      <td>86.2</td>\n",
       "      <td>26.2</td>\n",
       "      <td>94.3</td>\n",
       "      <td>5.1</td>\n",
       "      <td>8.2</td>\n",
       "      <td>51</td>\n",
       "      <td>6.7</td>\n",
       "      <td>0.0</td>\n",
       "      <td>0.0</td>\n",
       "    </tr>\n",
       "    <tr>\n",
       "      <th>1</th>\n",
       "      <td>7</td>\n",
       "      <td>4</td>\n",
       "      <td>oct</td>\n",
       "      <td>tue</td>\n",
       "      <td>90.6</td>\n",
       "      <td>35.4</td>\n",
       "      <td>669.1</td>\n",
       "      <td>6.7</td>\n",
       "      <td>18.0</td>\n",
       "      <td>33</td>\n",
       "      <td>0.9</td>\n",
       "      <td>0.0</td>\n",
       "      <td>0.0</td>\n",
       "    </tr>\n",
       "    <tr>\n",
       "      <th>2</th>\n",
       "      <td>7</td>\n",
       "      <td>4</td>\n",
       "      <td>oct</td>\n",
       "      <td>sat</td>\n",
       "      <td>90.6</td>\n",
       "      <td>43.7</td>\n",
       "      <td>686.9</td>\n",
       "      <td>6.7</td>\n",
       "      <td>14.6</td>\n",
       "      <td>33</td>\n",
       "      <td>1.3</td>\n",
       "      <td>0.0</td>\n",
       "      <td>0.0</td>\n",
       "    </tr>\n",
       "    <tr>\n",
       "      <th>3</th>\n",
       "      <td>8</td>\n",
       "      <td>6</td>\n",
       "      <td>mar</td>\n",
       "      <td>fri</td>\n",
       "      <td>91.7</td>\n",
       "      <td>33.3</td>\n",
       "      <td>77.5</td>\n",
       "      <td>9.0</td>\n",
       "      <td>8.3</td>\n",
       "      <td>97</td>\n",
       "      <td>4.0</td>\n",
       "      <td>0.2</td>\n",
       "      <td>0.0</td>\n",
       "    </tr>\n",
       "    <tr>\n",
       "      <th>4</th>\n",
       "      <td>8</td>\n",
       "      <td>6</td>\n",
       "      <td>mar</td>\n",
       "      <td>sun</td>\n",
       "      <td>89.3</td>\n",
       "      <td>51.3</td>\n",
       "      <td>102.2</td>\n",
       "      <td>9.6</td>\n",
       "      <td>11.4</td>\n",
       "      <td>99</td>\n",
       "      <td>1.8</td>\n",
       "      <td>0.0</td>\n",
       "      <td>0.0</td>\n",
       "    </tr>\n",
       "  </tbody>\n",
       "</table>\n",
       "</div>"
      ],
      "text/plain": [
       "   X  Y month  day  FFMC   DMC     DC  ISI  temp  RH  wind  rain  area\n",
       "0  7  5   mar  fri  86.2  26.2   94.3  5.1   8.2  51   6.7   0.0   0.0\n",
       "1  7  4   oct  tue  90.6  35.4  669.1  6.7  18.0  33   0.9   0.0   0.0\n",
       "2  7  4   oct  sat  90.6  43.7  686.9  6.7  14.6  33   1.3   0.0   0.0\n",
       "3  8  6   mar  fri  91.7  33.3   77.5  9.0   8.3  97   4.0   0.2   0.0\n",
       "4  8  6   mar  sun  89.3  51.3  102.2  9.6  11.4  99   1.8   0.0   0.0"
      ]
     },
     "execution_count": 2,
     "metadata": {},
     "output_type": "execute_result"
    }
   ],
   "source": [
    "#import data with pd.read_csv('file path') \n",
    "ff = pd.read_csv('/Users/dayynielle/Desktop/DS_Jupyter/DS_FundamentalsCourse/datascience/python/Team_ML_Project/forestfires.csv')\n",
    "ff.head()"
   ]
  },
  {
   "cell_type": "markdown",
   "id": "f46ea52f",
   "metadata": {},
   "source": [
    "### Calculating the average DMC per month"
   ]
  },
  {
   "cell_type": "code",
   "execution_count": 3,
   "id": "89a0730e",
   "metadata": {},
   "outputs": [],
   "source": [
    "#empty list for DMC for each month\n",
    "jan_DMC = []\n",
    "feb_DMC = []\n",
    "mar_DMC = []\n",
    "apr_DMC = []\n",
    "may_DMC = []\n",
    "jun_DMC = []\n",
    "jul_DMC = []\n",
    "aug_DMC = []\n",
    "sep_DMC = []\n",
    "oct_DMC = []\n",
    "nov_DMC = []\n",
    "dec_DMC = []"
   ]
  },
  {
   "cell_type": "code",
   "execution_count": 4,
   "id": "d9823efd",
   "metadata": {},
   "outputs": [],
   "source": [
    "#adding DMC value to appropriate list for everytime each month occurs\n",
    "for n in range(ff.shape[0]):\n",
    "    if ff.month[n] == 'jan':\n",
    "        jan_DMC.append(ff.DMC[n])\n",
    "    elif ff.month[n] == 'feb':\n",
    "        feb_DMC.append(ff.DMC[n])\n",
    "    elif ff.month[n] == 'mar':\n",
    "        mar_DMC.append(ff.DMC[n])\n",
    "    elif ff.month[n] == 'apr':\n",
    "        apr_DMC.append(ff.DMC[n])\n",
    "    elif ff.month[n] == 'may':\n",
    "        may_DMC.append(ff.DMC[n])\n",
    "    elif ff.month[n] == 'jun':\n",
    "        jun_DMC.append(ff.DMC[n])\n",
    "    elif ff.month[n] == 'jul':\n",
    "        jul_DMC.append(ff.DMC[n])\n",
    "    elif ff.month[n] == 'aug':\n",
    "        aug_DMC.append(ff.DMC[n])\n",
    "    elif ff.month[n] == 'sep':\n",
    "        sep_DMC.append(ff.DMC[n])\n",
    "    elif ff.month[n] == 'oct':\n",
    "        oct_DMC.append(ff.DMC[n])\n",
    "    elif ff.month[n] == 'nov':\n",
    "        nov_DMC.append(ff.DMC[n])\n",
    "    elif ff.month[n] == 'dec':\n",
    "        dec_DMC.append(ff.DMC[n])\n",
    "    else:\n",
    "        break"
   ]
  },
  {
   "cell_type": "code",
   "execution_count": 5,
   "id": "3a61a859",
   "metadata": {},
   "outputs": [
    {
     "name": "stdout",
     "output_type": "stream",
     "text": [
      "   Month     Avg_DMC\n",
      "0    Jan    2.400000\n",
      "1    Feb    9.475000\n",
      "2    Mar   34.542593\n",
      "3    Apr   15.911111\n",
      "4    May   26.700000\n",
      "5    Jun   93.382353\n",
      "6    Jul  110.387500\n",
      "7    Aug  153.732609\n",
      "8    Sep  120.922674\n",
      "9    Oct   41.420000\n",
      "10   Nov    3.000000\n",
      "11   Dec   26.122222\n"
     ]
    }
   ],
   "source": [
    "#creating a data frame with month and calculated average DMC per month\n",
    "DMC_avg = pd.DataFrame()\n",
    "\n",
    "DMC_avg['Month'] = ['Jan', 'Feb', 'Mar',\n",
    "                    'Apr', 'May', 'Jun',\n",
    "                    'Jul', 'Aug', 'Sep',\n",
    "                    'Oct', 'Nov', 'Dec']\n",
    "DMC_avg['Avg_DMC'] = [stat.mean(jan_DMC), stat.mean(feb_DMC), stat.mean(mar_DMC),\n",
    "                       stat.mean(apr_DMC), stat.mean(may_DMC), stat.mean(jun_DMC),\n",
    "                       stat.mean(jul_DMC), stat.mean(aug_DMC), stat.mean(sep_DMC),\n",
    "                       stat.mean(oct_DMC), stat.mean(nov_DMC), stat.mean(dec_DMC)]\n",
    "print(DMC_avg)"
   ]
  },
  {
   "cell_type": "code",
   "execution_count": 6,
   "id": "adc56942",
   "metadata": {},
   "outputs": [
    {
     "data": {
      "image/png": "[encoded data removed]",
      "text/plain": [
       "<Figure size 432x288 with 1 Axes>"
      ]
     },
     "metadata": {},
     "output_type": "display_data"
    }
   ],
   "source": [
    "#plot for month vs average DMC\n",
    "plt.plot(DMC_avg['Month'], DMC_avg['Avg_DMC'], label = 'Average DMC')\n",
    "\n",
    "plt.show()"
   ]
  },
  {
   "cell_type": "markdown",
   "id": "77e3e95e",
   "metadata": {},
   "source": [
    "### Calculating the average DC per Month"
   ]
  },
  {
   "cell_type": "code",
   "execution_count": 7,
   "id": "d544c037",
   "metadata": {},
   "outputs": [],
   "source": [
    "#empty list for DC\n",
    "jan_DC = []\n",
    "feb_DC = []\n",
    "mar_DC = []\n",
    "apr_DC = []\n",
    "may_DC = []\n",
    "jun_DC = []\n",
    "jul_DC = []\n",
    "aug_DC = []\n",
    "sep_DC = []\n",
    "oct_DC = []\n",
    "nov_DC = []\n",
    "dec_DC = []"
   ]
  },
  {
   "cell_type": "code",
   "execution_count": 8,
   "id": "371eb89d",
   "metadata": {},
   "outputs": [],
   "source": [
    "for n in range(ff.shape[0]):\n",
    "    if ff.month[n] == 'jan':\n",
    "        jan_DC.append(ff.DC[n])\n",
    "    elif ff.month[n] == 'feb':\n",
    "        feb_DC.append(ff.DC[n])\n",
    "    elif ff.month[n] == 'mar':\n",
    "        mar_DC.append(ff.DC[n])\n",
    "    elif ff.month[n] == 'apr':\n",
    "        apr_DC.append(ff.DC[n])\n",
    "    elif ff.month[n] == 'may':\n",
    "        may_DC.append(ff.DC[n])\n",
    "    elif ff.month[n] == 'jun':\n",
    "        jun_DC.append(ff.DC[n])\n",
    "    elif ff.month[n] == 'jul':\n",
    "        jul_DC.append(ff.DC[n])\n",
    "    elif ff.month[n] == 'aug':\n",
    "        aug_DC.append(ff.DC[n])\n",
    "    elif ff.month[n] == 'sep':\n",
    "        sep_DC.append(ff.DC[n])\n",
    "    elif ff.month[n] == 'oct':\n",
    "        oct_DC.append(ff.DC[n])\n",
    "    elif ff.month[n] == 'nov':\n",
    "        nov_DC.append(ff.DC[n])\n",
    "    elif ff.month[n] == 'dec':\n",
    "        dec_DC.append(ff.DC[n])\n",
    "    else:\n",
    "        break"
   ]
  },
  {
   "cell_type": "code",
   "execution_count": 9,
   "id": "983ff2d5",
   "metadata": {},
   "outputs": [
    {
     "name": "stdout",
     "output_type": "stream",
     "text": [
      "   Month      Avg_DC\n",
      "0    Jan   90.350000\n",
      "1    Feb   54.670000\n",
      "2    Mar   75.942593\n",
      "3    Apr   48.555556\n",
      "4    May   93.750000\n",
      "5    Jun  297.705882\n",
      "6    Jul  450.603125\n",
      "7    Aug  641.077717\n",
      "8    Sep  734.615698\n",
      "9    Oct  681.673333\n",
      "10   Nov  106.700000\n",
      "11   Dec  351.244444\n"
     ]
    }
   ],
   "source": [
    "#displaying data frame for month and average DC\n",
    "DC_avg = pd.DataFrame()\n",
    "\n",
    "DC_avg['Month'] = ['Jan', 'Feb', 'Mar',\n",
    "                    'Apr', 'May', 'Jun',\n",
    "                    'Jul', 'Aug', 'Sep',\n",
    "                    'Oct', 'Nov', 'Dec']\n",
    "DC_avg['Avg_DC'] = [stat.mean(jan_DC), stat.mean(feb_DC), stat.mean(mar_DC),\n",
    "                    stat.mean(apr_DC), stat.mean(may_DC), stat.mean(jun_DC),\n",
    "                    stat.mean(jul_DC), stat.mean(aug_DC), stat.mean(sep_DC),\n",
    "                    stat.mean(oct_DC), stat.mean(nov_DC), stat.mean(dec_DC)]\n",
    "print(DC_avg)"
   ]
  },
  {
   "cell_type": "code",
   "execution_count": 10,
   "id": "3b0d6e29",
   "metadata": {},
   "outputs": [
    {
     "data": {
      "image/png": "[encoded data removed]",
      "text/plain": [
       "<Figure size 432x288 with 1 Axes>"
      ]
     },
     "metadata": {},
     "output_type": "display_data"
    }
   ],
   "source": [
    "#plot for month vs average DC\n",
    "plt.plot(DC_avg['Month'], DC_avg['Avg_DC'], label = 'Average DC')\n",
    "\n",
    "plt.show()"
   ]
  },
  {
   "cell_type": "markdown",
   "id": "1b206a20",
   "metadata": {},
   "source": [
    "# Combined DMC and DC Graph"
   ]
  },
  {
   "cell_type": "code",
   "execution_count": 15,
   "id": "0d59ffd9",
   "metadata": {},
   "outputs": [
    {
     "data": {
      "image/png": "[encoded data removed]",
      "text/plain": [
       "<Figure size 432x288 with 1 Axes>"
      ]
     },
     "metadata": {},
     "output_type": "display_data"
    }
   ],
   "source": [
    "#plot combining month vs average DMC and DC with a log y-axis\n",
    "plt.plot(DMC_avg['Month'], DMC_avg['Avg_DMC'],\n",
    "         label = 'DMC', linestyle = '--')\n",
    "plt.plot(DC_avg['Month'], DC_avg['Avg_DC'],\n",
    "         label = 'DC', linestyle = ':')\n",
    "\n",
    "plt.xlabel('Month')\n",
    "plt.title('Average DMC and DC per Month')\n",
    "plt.legend(loc = 'upper left')\n",
    "ax = plt.gca()\n",
    "ax.set_yscale('log')\n",
    "\n",
    "plt.savefig('DMC_DC.png', dpi=300, bbox_inches='tight')\n",
    "\n",
    "plt.show()"
   ]
  },
  {
   "cell_type": "code",
   "execution_count": 14,
   "id": "7108739e",
   "metadata": {},
   "outputs": [
    {
     "data": {
      "image/png": "[encoded data removed]",
      "text/plain": [
       "<Figure size 432x288 with 1 Axes>"
      ]
     },
     "metadata": {},
     "output_type": "display_data"
    }
   ],
   "source": [
    "#plot combining month vs average DMC and DC\n",
    "plt.plot(DMC_avg['Month'], DMC_avg['Avg_DMC'],\n",
    "         label = 'DMC', linestyle = '--')\n",
    "plt.plot(DC_avg['Month'], DC_avg['Avg_DC'],\n",
    "         label = 'DC', linestyle = ':')\n",
    "\n",
    "plt.xlabel('Month')\n",
    "plt.title('Average DMC and DC per Month')\n",
    "plt.legend(loc = 'upper left')\n",
    "\n",
    "plt.show()"
   ]
  },
  {
   "cell_type": "code",
   "execution_count": null,
   "id": "bff08c95",
   "metadata": {},
   "outputs": [],
   "source": []
  }
 ],
 "metadata": {
  "kernelspec": {
   "display_name": "Python 3 (ipykernel)",
   "language": "python",
   "name": "python3"
  },
  "language_info": {
   "codemirror_mode": {
    "name": "ipython",
    "version": 3
   },
   "file_extension": ".py",
   "mimetype": "text/x-python",
   "name": "python",
   "nbconvert_exporter": "python",
   "pygments_lexer": "ipython3",
   "version": "3.9.12"
  }
 },
 "nbformat": 4,
 "nbformat_minor": 5
}
